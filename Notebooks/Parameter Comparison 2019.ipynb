{
 "cells": [
  {
   "cell_type": "code",
   "execution_count": 1,
   "id": "threaded-thailand",
   "metadata": {},
   "outputs": [],
   "source": [
    "from EstimateParameters import *\n",
    "from FriedmanFinnerTests import run_tests_par\n",
    "\n",
    "ano = '2019'\n",
    "item_ing = ['Item 55166', 'Item 54110', 'Item 23564', 'Item 31954', 'Item 118180']\n",
    "item_esp = ['Item 96705', 'Item 118222','Item 39016', 'Item 118167', 'Item 48558']"
   ]
  },
  {
   "cell_type": "markdown",
   "id": "organizational-aircraft",
   "metadata": {},
   "source": [
    "# 1. Estimate Parameters"
   ]
  },
  {
   "cell_type": "code",
   "execution_count": 2,
   "id": "inappropriate-watson",
   "metadata": {},
   "outputs": [],
   "source": [
    "icc_par = estimate_all_tests_parameters(ano, item_ing, item_esp)"
   ]
  },
  {
   "cell_type": "markdown",
   "id": "pending-invite",
   "metadata": {},
   "source": [
    "# 2. Test Parameters"
   ]
  },
  {
   "cell_type": "markdown",
   "id": "egyptian-prison",
   "metadata": {},
   "source": [
    "## 2.1 CN"
   ]
  },
  {
   "cell_type": "code",
   "execution_count": 3,
   "id": "divided-return",
   "metadata": {},
   "outputs": [
    {
     "name": "stdout",
     "output_type": "stream",
     "text": [
      "Friedman test\n",
      "  p-value discrimination (a): 0.7054\n",
      "  p-value difficulty (b): 0.8220\n",
      "  p-value guessing (c): 0.5540\n",
      "\n",
      "Finner test\n",
      "discrimination (a)\n",
      "   Pardo vs Black: 0.399\n",
      "   Pardo vs White: 0.673\n",
      "   Pardo vs White: 0.673\n",
      "   White vs Black: 0.673\n",
      "   Pardo vs Black: 0.399\n",
      "difficulty (b)\n",
      "   White vs Black: 0.527\n",
      "   White vs Pardo: 0.752\n",
      "   White vs Pardo: 0.752\n",
      "   White vs Black: 0.527\n",
      "   Pardo vs Black: 0.752\n",
      "guessing (c)\n",
      "   White vs Black: 0.343\n",
      "   White vs Pardo: 1.000\n",
      "   White vs Pardo: 1.000\n",
      "   White vs Black: 0.343\n",
      "   Pardo vs Black: 0.343\n"
     ]
    }
   ],
   "source": [
    "run_tests_par(icc_par, 'CN', feat='Race')"
   ]
  },
  {
   "cell_type": "code",
   "execution_count": 4,
   "id": "buried-sandwich",
   "metadata": {},
   "outputs": [
    {
     "name": "stdout",
     "output_type": "stream",
     "text": [
      "Friedman test\n",
      "  p-value discrimination (a): 0.7532\n",
      "  p-value difficulty (b): 0.1736\n",
      "  p-value guessing (c): 0.3480\n",
      "\n",
      "Finner test\n",
      "discrimination (a)\n",
      "   High vs Low: 0.461\n",
      "   High vs Medium: 0.833\n",
      "   High vs Medium: 0.833\n",
      "   Medium vs Low: 0.598\n",
      "difficulty (b)\n",
      "   High vs Low: 0.073\n",
      "   High vs Medium: 0.171\n",
      "   High vs Medium: 0.171\n",
      "   Medium vs Low: 0.673\n",
      "difficulty (b)\n",
      "   High vs Low: 0.206\n",
      "   High vs Medium: 1.000\n",
      "   High vs Medium: 1.000\n",
      "   Medium vs Low: 0.206\n"
     ]
    }
   ],
   "source": [
    "run_tests_par(icc_par, 'CN', feat='Income')"
   ]
  },
  {
   "cell_type": "markdown",
   "id": "technical-porcelain",
   "metadata": {},
   "source": [
    "## 2.2 LC"
   ]
  },
  {
   "cell_type": "markdown",
   "id": "initial-press",
   "metadata": {},
   "source": [
    "### 2.2.1 LC - Portuguese"
   ]
  },
  {
   "cell_type": "code",
   "execution_count": 5,
   "id": "available-tribe",
   "metadata": {},
   "outputs": [
    {
     "name": "stdout",
     "output_type": "stream",
     "text": [
      "Friedman test\n",
      "  p-value discrimination (a): 0.2099\n",
      "  p-value difficulty (b): 0.5339\n",
      "  p-value guessing (c): 0.0002\n",
      "\n",
      "Finner test\n",
      "discrimination (a)\n",
      "   M vs F: 0.206\n",
      "difficulty (b)\n",
      "   F vs M: 0.527\n",
      "guessing (c)\n",
      "   F vs M: 0.001\n"
     ]
    }
   ],
   "source": [
    "run_tests_par(icc_par, 'PT', feat='Gender')"
   ]
  },
  {
   "cell_type": "code",
   "execution_count": 6,
   "id": "cosmetic-checkout",
   "metadata": {},
   "outputs": [
    {
     "name": "stdout",
     "output_type": "stream",
     "text": [
      "Friedman test\n",
      "  p-value discrimination (a): 0.6757\n",
      "  p-value difficulty (b): 0.7275\n",
      "  p-value guessing (c): 0.2917\n",
      "\n",
      "Finner test\n",
      "discrimination (a)\n",
      "   Black vs Pardo: 0.371\n",
      "   Black vs White: 0.655\n",
      "   White vs Pardo: 0.655\n",
      "   Black vs White: 0.655\n",
      "   Black vs Pardo: 0.371\n",
      "difficulty (b)\n",
      "   Pardo vs White: 0.434\n",
      "   Pardo vs Black: 0.823\n",
      "   Pardo vs White: 0.434\n",
      "   Black vs White: 0.576\n",
      "   Pardo vs Black: 0.823\n",
      "guessing (c)\n",
      "   Pardo vs White: 0.118\n",
      "   Pardo vs Black: 0.342\n",
      "   Pardo vs White: 0.118\n",
      "   Black vs White: 0.539\n",
      "   Pardo vs Black: 0.342\n"
     ]
    }
   ],
   "source": [
    "run_tests_par(icc_par, 'PT', feat='Race')"
   ]
  },
  {
   "cell_type": "code",
   "execution_count": 7,
   "id": "headed-deviation",
   "metadata": {},
   "outputs": [
    {
     "name": "stdout",
     "output_type": "stream",
     "text": [
      "Friedman test\n",
      "  p-value discrimination (a): 0.9294\n",
      "  p-value difficulty (b): 0.0034\n",
      "  p-value guessing (c): 0.0004\n",
      "\n",
      "Finner test\n",
      "discrimination (a)\n",
      "   Medium vs High: 0.737\n",
      "   Medium vs Low: 0.737\n",
      "   Medium vs High: 0.737\n",
      "   Medium vs Low: 0.737\n",
      "difficulty (b)\n",
      "   Low vs High: 0.001\n",
      "   Low vs Medium: 0.264\n",
      "   Medium vs High: 0.034\n",
      "   Low vs Medium: 0.264\n",
      "difficulty (b)\n",
      "   Low vs High: 0.000\n",
      "   Low vs Medium: 0.118\n",
      "   Medium vs High: 0.025\n",
      "   Low vs Medium: 0.118\n"
     ]
    }
   ],
   "source": [
    "run_tests_par(icc_par, 'PT', feat='Income')"
   ]
  },
  {
   "cell_type": "markdown",
   "id": "determined-client",
   "metadata": {},
   "source": [
    "### 2.2.2 LC - English"
   ]
  },
  {
   "cell_type": "code",
   "execution_count": 8,
   "id": "ultimate-springer",
   "metadata": {},
   "outputs": [
    {
     "name": "stdout",
     "output_type": "stream",
     "text": [
      "Friedman test\n",
      "  p-value discrimination (a): 0.0000\n",
      "  p-value difficulty (b): 0.7040\n",
      "  p-value guessing (c): 0.2080\n",
      "\n",
      "Finner test\n",
      "discrimination (a)\n",
      "   M vs F: 0.025\n",
      "difficulty (b)\n",
      "   M vs F: 0.655\n",
      "guessing (c)\n",
      "   F vs M: 0.180\n"
     ]
    },
    {
     "name": "stderr",
     "output_type": "stream",
     "text": [
      "/home/vitoria/ENEM_TRI/Notebooks/stac/stac/nonparametric_tests.py:93: RuntimeWarning: divide by zero encountered in double_scalars\n",
      "  iman_davenport = ((n-1)*chi2)/float((n*(k-1)-chi2))\n"
     ]
    }
   ],
   "source": [
    "run_tests_par(icc_par, 'EN', feat='Gender')"
   ]
  },
  {
   "cell_type": "code",
   "execution_count": 9,
   "id": "alpine-fireplace",
   "metadata": {},
   "outputs": [
    {
     "name": "stdout",
     "output_type": "stream",
     "text": [
      "Friedman test\n",
      "  p-value discrimination (a): 0.0033\n",
      "  p-value difficulty (b): 0.0007\n",
      "  p-value guessing (c): 0.0033\n",
      "\n",
      "Finner test\n",
      "discrimination (a)\n",
      "   Black vs White: 0.011\n",
      "   Black vs Pardo: 0.752\n",
      "   Pardo vs White: 0.027\n",
      "   Black vs White: 0.011\n",
      "   Black vs Pardo: 0.752\n",
      "difficulty (b)\n",
      "   White vs Black: 0.004\n",
      "   White vs Pardo: 0.343\n",
      "   White vs Pardo: 0.343\n",
      "   White vs Black: 0.004\n",
      "   Pardo vs Black: 0.058\n",
      "guessing (c)\n",
      "   Pardo vs White: 0.011\n",
      "   Pardo vs Black: 0.752\n",
      "   Pardo vs White: 0.011\n",
      "   Black vs White: 0.027\n",
      "   Pardo vs Black: 0.752\n"
     ]
    }
   ],
   "source": [
    "run_tests_par(icc_par, 'EN', feat='Race')"
   ]
  },
  {
   "cell_type": "code",
   "execution_count": 10,
   "id": "obvious-client",
   "metadata": {},
   "outputs": [
    {
     "name": "stdout",
     "output_type": "stream",
     "text": [
      "Friedman test\n",
      "  p-value discrimination (a): 0.0531\n",
      "  p-value difficulty (b): 0.0007\n",
      "  p-value guessing (c): 0.0000\n",
      "\n",
      "Finner test\n",
      "discrimination (a)\n",
      "   High vs Medium: 0.027\n",
      "   High vs Low: 0.527\n",
      "   High vs Medium: 0.027\n",
      "   Low vs Medium: 0.114\n",
      "difficulty (b)\n",
      "   High vs Low: 0.004\n",
      "   High vs Medium: 0.058\n",
      "   High vs Medium: 0.058\n",
      "   Medium vs Low: 0.343\n",
      "difficulty (b)\n",
      "   Low vs High: 0.002\n",
      "   Low vs Medium: 0.114\n",
      "   Medium vs High: 0.114\n",
      "   Low vs Medium: 0.114\n"
     ]
    }
   ],
   "source": [
    "run_tests_par(icc_par, 'EN', feat='Income')"
   ]
  },
  {
   "cell_type": "markdown",
   "id": "legislative-serve",
   "metadata": {},
   "source": [
    "### 2.2.3 LC - Spanish"
   ]
  },
  {
   "cell_type": "code",
   "execution_count": 11,
   "id": "announced-zambia",
   "metadata": {},
   "outputs": [
    {
     "name": "stdout",
     "output_type": "stream",
     "text": [
      "Friedman test\n",
      "  p-value discrimination (a): 0.0731\n",
      "  p-value difficulty (b): 0.4979\n",
      "  p-value guessing (c): 0.0007\n",
      "\n",
      "Finner test\n",
      "discrimination (a)\n",
      "   Black vs White: 0.058\n",
      "   Black vs Pardo: 1.000\n",
      "   Pardo vs White: 0.058\n",
      "   Black vs White: 0.058\n",
      "   Black vs Pardo: 1.000\n",
      "difficulty (b)\n",
      "   Pardo vs Black: 0.206\n",
      "   Pardo vs White: 0.527\n",
      "   Pardo vs White: 0.527\n",
      "   White vs Black: 0.527\n",
      "   Pardo vs Black: 0.206\n",
      "guessing (c)\n",
      "   Pardo vs White: 0.004\n",
      "   Pardo vs Black: 0.343\n",
      "   Pardo vs White: 0.004\n",
      "   Black vs White: 0.058\n",
      "   Pardo vs Black: 0.343\n"
     ]
    }
   ],
   "source": [
    "run_tests_par(icc_par, 'SP', feat='Race')"
   ]
  },
  {
   "cell_type": "code",
   "execution_count": 12,
   "id": "divine-recording",
   "metadata": {},
   "outputs": [
    {
     "name": "stdout",
     "output_type": "stream",
     "text": [
      "Friedman test\n",
      "  p-value discrimination (a): 0.5997\n",
      "  p-value difficulty (b): 0.8493\n",
      "  p-value guessing (c): 0.0007\n",
      "\n",
      "Finner test\n",
      "discrimination (a)\n",
      "   High vs Medium: 0.343\n",
      "   High vs Low: 1.000\n",
      "   High vs Medium: 0.343\n",
      "   Low vs Medium: 0.343\n",
      "difficulty (b)\n",
      "   High vs Low: 0.527\n",
      "   High vs Medium: 0.752\n",
      "   High vs Medium: 0.752\n",
      "   Medium vs Low: 0.752\n",
      "difficulty (b)\n",
      "   Low vs High: 0.004\n",
      "   Low vs Medium: 0.058\n",
      "   Medium vs High: 0.343\n",
      "   Low vs Medium: 0.058\n"
     ]
    }
   ],
   "source": [
    "run_tests_par(icc_par, 'SP', feat='Income')"
   ]
  },
  {
   "cell_type": "code",
   "execution_count": null,
   "id": "right-character",
   "metadata": {},
   "outputs": [],
   "source": []
  }
 ],
 "metadata": {
  "kernelspec": {
   "display_name": "Python 3 (ipykernel)",
   "language": "python",
   "name": "python3"
  },
  "language_info": {
   "codemirror_mode": {
    "name": "ipython",
    "version": 3
   },
   "file_extension": ".py",
   "mimetype": "text/x-python",
   "name": "python",
   "nbconvert_exporter": "python",
   "pygments_lexer": "ipython3",
   "version": "3.7.12"
  }
 },
 "nbformat": 4,
 "nbformat_minor": 5
}
